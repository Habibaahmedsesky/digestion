{
 "cells": [
  {
   "cell_type": "code",
   "execution_count": 3,
   "id": "381d69be",
   "metadata": {},
   "outputs": [],
   "source": [
    "    from pyopenms import*\n",
    "    bsa = FASTAEntry() # one entry in a FASTA file\n",
    "    bsa.sequence = \"MKWVTFISLLLLFSSAYSRGVFRRDTHKSEIAHRFKDLGE\"\n",
    "    bsa.description = \"BSA Bovine Albumin (partial sequence)\"\n",
    "    bsa.identifier = \"BSA\"\n",
    "    alb = FASTAEntry()\n",
    "    alb.sequence = \"MKWVTFISLLFLFSSAYSRGVFRRDAHKSEVAHRFKDLGE\"\n",
    "    alb.description = \"ALB Human Albumin (partial sequence)\"\n",
    "    alb.identifier = \"ALB\"\n",
    "\n",
    "    entries = [bsa, alb]\n",
    "\n",
    "    f = FASTAFile()\n",
    "    f.store(\"example.fasta\", entries)"
   ]
  },
  {
   "cell_type": "code",
   "execution_count": 4,
   "id": "06a04902",
   "metadata": {},
   "outputs": [
    {
     "name": "stdout",
     "output_type": "stream",
     "text": [
      "2\n",
      "BSA MKWVTFISLLLLFSSAYSRGVFRRDTHKSEIAHRFKDLGE\n",
      "ALB MKWVTFISLLFLFSSAYSRGVFRRDAHKSEVAHRFKDLGE\n"
     ]
    }
   ],
   "source": [
    "    entries = []\n",
    "    f = FASTAFile()\n",
    "    f.load(\"example.fasta\", entries)\n",
    "    print( len(entries) )\n",
    "    for e in entries:\n",
    "      print (e.identifier, e.sequence)"
   ]
  },
  {
   "cell_type": "code",
   "execution_count": null,
   "id": "793dacab",
   "metadata": {},
   "outputs": [],
   "source": []
  }
 ],
 "metadata": {
  "kernelspec": {
   "display_name": "Python 3 (ipykernel)",
   "language": "python",
   "name": "python3"
  },
  "language_info": {
   "codemirror_mode": {
    "name": "ipython",
    "version": 3
   },
   "file_extension": ".py",
   "mimetype": "text/x-python",
   "name": "python",
   "nbconvert_exporter": "python",
   "pygments_lexer": "ipython3",
   "version": "3.9.7"
  }
 },
 "nbformat": 4,
 "nbformat_minor": 5
}
